{
 "cells": [
  {
   "cell_type": "code",
   "execution_count": null,
   "id": "b8bf2edd-7d8f-42be-84fd-aad22a234536",
   "metadata": {},
   "outputs": [],
   "source": []
  }
 ],
 "metadata": {
  "kernelspec": {
   "display_name": "",
   "name": ""
  },
  "language_info": {
   "name": ""
  }
 },
 "nbformat": 4,
 "nbformat_minor": 5
}
