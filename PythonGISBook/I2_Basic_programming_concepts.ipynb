{
 "cells": [
  {
   "cell_type": "code",
   "execution_count": 1,
   "id": "5524caec-6d01-41d4-a3fc-d229f9a49178",
   "metadata": {},
   "outputs": [],
   "source": [
    "import math as math"
   ]
  },
  {
   "cell_type": "markdown",
   "id": "cbee9e96-fd96-41d2-a45e-d2546f8494de",
   "metadata": {},
   "source": [
    "#### Question 2.1\n",
    "Use your Python skills to calculate the sine of pi. What value do you expect for this calculation? Did you get the expected result?\n",
    "\n",
    "A: *We would have expecte 0, but we just get a very very small number instead, due to lyrics*"
   ]
  },
  {
   "cell_type": "code",
   "execution_count": 2,
   "id": "3386e09b-f384-4d2c-a2c6-7beddb89eb6e",
   "metadata": {},
   "outputs": [
    {
     "data": {
      "text/plain": [
       "1.2246467991473532e-16"
      ]
     },
     "execution_count": 2,
     "metadata": {},
     "output_type": "execute_result"
    }
   ],
   "source": [
    "math.sin(math.pi)\n"
   ]
  },
  {
   "cell_type": "markdown",
   "id": "cd32da4a-9f19-407d-9b85-798d47a268fe",
   "metadata": {},
   "source": [
    "#### Question 2.2\n",
    "Define a variable and display its value on the screen. The variable value can be anything you like, and you can even consider defining several variables and printing them out together. Consider using pothole_case_naming for your variable name."
   ]
  },
  {
   "cell_type": "code",
   "execution_count": 3,
   "id": "ecc221a6-ec83-4d27-853a-e68085f3fe08",
   "metadata": {},
   "outputs": [
    {
     "name": "stdout",
     "output_type": "stream",
     "text": [
      "2\n"
     ]
    }
   ],
   "source": [
    "var1 = 2\n",
    "print(var1)"
   ]
  },
  {
   "cell_type": "markdown",
   "id": "235df37a-b324-4152-8039-3d84cc51782c",
   "metadata": {},
   "source": [
    "#### Question 2.3\n",
    "As it turns out, it is possible some math with character strings in Python. Define two variables and assign them character string values. What happens if you try to add two character strings together? Can you subtract them? Which other math operations work for character strings?\n",
    "\n",
    "A: *Adding adds them together*: `st` . *Multiplying by a number multiplies string* `ssss`"
   ]
  },
  {
   "cell_type": "code",
   "execution_count": 8,
   "id": "8eadaf91-e6fd-43ff-bd55-44f19495e6f3",
   "metadata": {},
   "outputs": [
    {
     "data": {
      "text/plain": [
       "('st', 'ssss')"
      ]
     },
     "execution_count": 8,
     "metadata": {},
     "output_type": "execute_result"
    }
   ],
   "source": [
    "var1 = 's'\n",
    "var2 = 't'\n",
    "var1 + var2, 4 * var1"
   ]
  },
  {
   "cell_type": "markdown",
   "id": "ad45b64a-7ea5-4089-85d8-2a8cb1a5aebd",
   "metadata": {},
   "source": [
    "\\"
   ]
  },
  {
   "cell_type": "markdown",
   "id": "6219793d-3fc1-4549-9150-88df4dd47dc2",
   "metadata": {},
   "source": [
    "#### Question 2.6\n",
    "\n",
    "Which animal is at index -2 in the Python list below? `cute_animals = [\"bunny\", \"chick\", \"duckling\", \"kitten\", \"puppy\"]`"
   ]
  },
  {
   "cell_type": "code",
   "execution_count": 3,
   "id": "dcc7c034-adfc-4b34-aae6-4492ba8b5095",
   "metadata": {},
   "outputs": [
    {
     "data": {
      "text/plain": [
       "'kitten'"
      ]
     },
     "execution_count": 3,
     "metadata": {},
     "output_type": "execute_result"
    }
   ],
   "source": [
    "cute_animals = [\"bunny\", \"chick\", \"duckling\", \"kitten\", \"puppy\"]\n",
    "cute_animals[-2]"
   ]
  },
  {
   "cell_type": "markdown",
   "id": "88a662b6-742e-4dd1-ade4-50f4975e25be",
   "metadata": {},
   "source": [
    "#### Question 2.7\n",
    "\n",
    "The program below will print numbers to the screen using the range() function.\n",
    "```\n",
    "for i in range(...):\n",
    "    print(i)\n",
    "```\n",
    "Using the documentation that is produced when you run help(range), what values would you replace the ... in the parentheses of the range() function with to have the following output printed to the screen? Try to first think about the function without running any code.\n",
    "```\n",
    "2\n",
    "5\n",
    "8\n",
    "```"
   ]
  },
  {
   "cell_type": "code",
   "execution_count": 6,
   "id": "771d61f9-ea6d-4265-ac59-63c90e60f89a",
   "metadata": {},
   "outputs": [
    {
     "name": "stdout",
     "output_type": "stream",
     "text": [
      "2\n",
      "5\n",
      "8\n"
     ]
    }
   ],
   "source": [
    "for i in range(2, 9, 3):\n",
    "    print(i)"
   ]
  },
  {
   "cell_type": "markdown",
   "id": "9bff0e25-6639-4e1c-907a-16d67c4ce354",
   "metadata": {},
   "source": [
    "#### Question 2.8\n",
    "\n",
    "What output would the following program produce? Try to first think about the loop without running any code.\n",
    "``` \n",
    "odd_numbers = [1, 3, 5, 7, 9]\n",
    "even_numbers = [10, 4, 6, 8, 2]\n",
    "for i in range(len(odd_numbers)):\n",
    "    print(odd_numbers[i] + even_numbers[i])\n",
    "``` "
   ]
  },
  {
   "cell_type": "code",
   "execution_count": 7,
   "id": "e6d37425-3427-4073-b664-9b488a5fd985",
   "metadata": {},
   "outputs": [
    {
     "name": "stdout",
     "output_type": "stream",
     "text": [
      "11\n",
      "7\n",
      "11\n",
      "15\n",
      "11\n"
     ]
    }
   ],
   "source": [
    "odd_numbers = [1, 3, 5, 7, 9]\n",
    "even_numbers = [10, 4, 6, 8, 2]\n",
    "for i in range(len(odd_numbers)):\n",
    "    print(odd_numbers[i] + even_numbers[i])"
   ]
  },
  {
   "cell_type": "markdown",
   "id": "4ba512a7-dd58-41c1-9023-e58b1e39a582",
   "metadata": {},
   "source": [
    "#### Question 2.9\n",
    "\n",
    "We might also need some other rain gear on a rainy day. Think about how you could add another instruction after the weather == \"rain\" condition so that the code would tell us to:\n",
    "```\n",
    "Wear a raincoat\n",
    "Wear rain boots\n",
    "```"
   ]
  },
  {
   "cell_type": "code",
   "execution_count": 1,
   "id": "a0c979ac-cfbf-4217-9d51-6a51bd6ce3a4",
   "metadata": {},
   "outputs": [
    {
     "name": "stdout",
     "output_type": "stream",
     "text": [
      "Wear a raincoat!\n",
      "Wear rain boots!\n"
     ]
    }
   ],
   "source": [
    "weather = \"rain\"\n",
    "\n",
    "if weather == \"rain\":\n",
    "    print(\"Wear a raincoat!\")\n",
    "    print(\"Wear rain boots!\")\n",
    "else:\n",
    "    print(\"No raincoat needed.\")\n",
    "    print(\"No rain boots needed.\")"
   ]
  },
  {
   "cell_type": "markdown",
   "id": "d15f8fed-291f-47fd-b38a-e1bd10a7f03f",
   "metadata": {},
   "source": [
    "#### Question 2.10\n",
    "\n",
    "Let’s assume that yesterday it was 14 °C, it is 10 °C outside today, and tomorrow it will be 13 °C. The following code compares these temperatures and prints something to the screen based on the comparison.\n",
    "```\n",
    "yesterday = 14\n",
    "today = 10\n",
    "tomorrow = 13\n",
    "\n",
    "if yesterday <= today:\n",
    "    print('A')\n",
    "elif today != tomorrow:\n",
    "    print('B')\n",
    "elif yesterday > tomorrow:\n",
    "    print('C')\n",
    "elif today == today:\n",
    "    print('D')\n",
    "```\n",
    "Answer: *B, because once a condition is met, loop breaks*"
   ]
  },
  {
   "cell_type": "markdown",
   "id": "ec779d15-2d19-427c-b382-97a237823f76",
   "metadata": {},
   "source": [
    "#### Question 2.11\n",
    "\n",
    "Let’s return to our example about making decisions on a rainy day. Imagine that we consider not only the rain but also the wind speed (in meters per second). If it is windy or raining, we’ll just stay at home. If it’s not windy or raining, we can go out and enjoy the weather!\n",
    "\n",
    "Let’s set 10 m/s as our comfort limit for wind speed in the conditional statement and see what our Python program tells us to do in these conditions."
   ]
  },
  {
   "cell_type": "code",
   "execution_count": 2,
   "id": "3611f0c8-3ef3-4716-9711-c3231b656c41",
   "metadata": {},
   "outputs": [
    {
     "name": "stdout",
     "output_type": "stream",
     "text": [
      "Let's stay home!\n"
     ]
    }
   ],
   "source": [
    "weather = \"rain\"\n",
    "windspeed = 11\n",
    "\n",
    "if weather == 'rain' or windspeed > 10:\n",
    "    print(\"Let's stay home!\")\n",
    "\n",
    "else:\n",
    "    print(\"Let's go outside.\")"
   ]
  },
  {
   "cell_type": "code",
   "execution_count": 3,
   "id": "0ac5e628-d46c-4225-9a24-d5a2c37c8fe9",
   "metadata": {},
   "outputs": [
    {
     "name": "stdout",
     "output_type": "stream",
     "text": [
      "I2_Basic_programming_concepts.ipynb\n"
     ]
    }
   ],
   "source": [
    "%ls"
   ]
  },
  {
   "cell_type": "markdown",
   "id": "b966458c-895d-4550-ace6-38257d5fd4d7",
   "metadata": {},
   "source": [
    "#### Exercise 2.1 - Getting started with Python\n",
    "\n",
    "The goal of this exercise is to print text like that below to the screen based on variable values you define.\n",
    "\n",
    "My name is Dave and I give eating ice cream a score of 9 out of 10!\n",
    "My sleeping enjoyment rating is 8 / 10!\n",
    "Based on the factors above, my happiness rating is 8.5 out of 10 or 85.0 %!\n",
    "\n",
    "For this exercise you should:\n",
    "\n",
    "- Create three variables: one integer value (whole number) for your ice cream rating, another integer for your sleeping rating, and a character string for your first name.\n",
    "- Calculate the average of the two ratings. Store the result in a variable for your happiness.\n",
    "- Find the data type of each of the variables you have defined. Are there any surprises?\n",
    "- Reproduce your version of the example text using the print() function and the variables you have defined. Note that you may need to be careful combining text and numbers!"
   ]
  },
  {
   "cell_type": "code",
   "execution_count": 7,
   "id": "973ee776-6f35-4ac8-a24a-d0808b320207",
   "metadata": {},
   "outputs": [
    {
     "name": "stdout",
     "output_type": "stream",
     "text": [
      "My name is Lucia  and I give eating ice cream a score of 5 out of 10! My sleeping enjoyment rating is 3 / 10! Based on the factors above, my happiness rating is 4.0 out of 10 or 40.0 %!\n"
     ]
    }
   ],
   "source": [
    "ice_cream_rating = 5\n",
    "sleep_rating = 3\n",
    "name = 'Lucia'\n",
    "\n",
    "def calculate_happiness(ice_cream_rating, sleep_rating):\n",
    "    happiness = (ice_cream_rating + sleep_rating)/2\n",
    "    return(happiness)\n",
    "\n",
    "happiness = calculate_happiness(ice_cream_rating, sleep_rating)\n",
    "\n",
    "print(f\"My name is {name}  and I give eating ice cream a score of {ice_cream_rating} out of 10! My sleeping enjoyment rating is {sleep_rating} / 10! Based on the factors above, my happiness rating is {happiness} out of 10 or {happiness*10} %!\")"
   ]
  },
  {
   "cell_type": "markdown",
   "id": "33ec17ae-4f9a-4409-ba95-a6731e1c6f16",
   "metadata": {},
   "source": [
    "#### Exercise 2.2 - Creating and changing lists\n",
    "\n",
    "For this exercise you should use the data in Table 2.5 to:\n",
    "\n",
    "- Create two lists for the station names and first years of operation for the stations in Group 1 in Table 2.5. Be sure to list the values in the order they appear in the table.\n",
    "- Modify the lists you just created to add the values Group 2, again keeping them in the same order.\n",
    "- Sort the two lists, sorting the first in alphabetical order and the second so that the most recent starting year is first\n",
    "  - Do you see any problems with how the lists have been sorted?\n",
    "  - Python has a function called zip() that might be helpful in solving the sorting issue. Search online to see whether you can find a way to use zip() to solve the problem with the two lists."
   ]
  },
  {
   "cell_type": "code",
   "execution_count": 46,
   "id": "026e5847-7d21-42f1-a966-815c81f8561e",
   "metadata": {},
   "outputs": [
    {
     "data": {
      "text/plain": [
       "(('Harmaja',\n",
       "  'Kaisaniemi',\n",
       "  'Kaivopuisto',\n",
       "  'Kumpula',\n",
       "  'Lighthouse',\n",
       "  'Malmi airfield',\n",
       "  'Suomenlinna aaltopoiju',\n",
       "  'Vuosaari harbour'),\n",
       " (1989, 1844, 1904, 2005, 2003, 1937, 2016, 2012))"
      ]
     },
     "execution_count": 46,
     "metadata": {},
     "output_type": "execute_result"
    }
   ],
   "source": [
    "stations = ['Lighthouse', 'Harmaja', 'Suomenlinna aaltopoiju', 'Kumpula', 'Kaisaniemi']\n",
    "years = [2003, 1989, 2016, 2005, 1844]\n",
    "\n",
    "stations.extend(['Malmi airfield', 'Vuosaari harbour', 'Kaivopuisto'])\n",
    "years.extend([1937, 2012, 1904])\n",
    "\n",
    "pairs = list(zip(stations, years)) # zip by itsself creates tuples, list combines them into a new list\n",
    "pairs.sort()\n",
    "pairs\n",
    "stations, years = zip(*pairs) #* operator makes sure this is properly unzipped into two independent lists\n",
    "stations, years"
   ]
  },
  {
   "cell_type": "markdown",
   "id": "812d46eb-d5b5-49a8-8e3f-d184f1a6a4e9",
   "metadata": {},
   "source": [
    "#### Exercise 2.3 - Lists and index values\n",
    "\n",
    "For this exercise you should use the data in Table 2.6 to:\n",
    "\n",
    "- Create two lists with the months and their average temperatures.\n",
    "- Use a print statement to produce output like that below, where the months and temperatures are selected using index values in the corresponding lists.\n",
    "  `The average temperature in Helsinki in March is -1.0`"
   ]
  },
  {
   "cell_type": "code",
   "execution_count": 50,
   "id": "3ea4d206-ec98-4ecd-84ee-6379cf4ab7f8",
   "metadata": {},
   "outputs": [
    {
     "name": "stdout",
     "output_type": "stream",
     "text": [
      "The average temperature in Helsinki in April is 4.0\n"
     ]
    }
   ],
   "source": [
    "def weather_report(i):\n",
    "    month = ['January', 'February', 'March', 'April', 'May', 'June', 'July', 'August', 'September', 'October', 'November', 'December']\n",
    "    temperature = [-3.5, -4.5, -1.0, 4.0, 10.0, 15.0, 18.0, 16.0, 11.5, 6.0, 2.0, -.15]\n",
    "    print(f\"The average temperature in Helsinki in {month[i]} is {temperature[i]}\")\n",
    "\n",
    "weather_report(3)"
   ]
  },
  {
   "cell_type": "markdown",
   "id": "d44f3ef8-1df2-4a7e-884c-e1fd918fde99",
   "metadata": {},
   "source": [
    "#### Exercise 2.4 - Batch processing files with a for loop\n",
    "\n",
    "Batch processing is a common task in Python, where a set of data and/or files are analyzed one after another using the same script or program. In this exercise your goal is to produce a Python list of filenames that could be used to batch process the data they contain.\n",
    "\n",
    "For this exercise you should:\n",
    "- Use a for loop to create a Python list that produces the output below when you print the list:\n",
    "```\n",
    "['Station_0.txt', 'Station_1.txt', 'Station_2.txt', 'Station_3.txt',\n",
    "'Station_4.txt', 'Station_5.txt', 'Station_6.txt', 'Station_7.txt',\n",
    "'Station_8.txt', 'Station_9.txt', 'Station_10.txt', 'Station_11.txt',\n",
    "'Station_12.txt', 'Station_13.txt', 'Station_14.txt', 'Station_15.txt',\n",
    "'Station_16.txt', 'Station_17.txt', 'Station_18.txt', 'Station_19.txt',\n",
    "'Station_20.txt']\n",
    "```"
   ]
  },
  {
   "cell_type": "code",
   "execution_count": 52,
   "id": "f3de7205-1ddb-4906-ae31-eb9ec93fcf2e",
   "metadata": {},
   "outputs": [],
   "source": [
    "stations = []\n",
    "\n",
    "for i in range(21):\n",
    "    stations.append(f\"Station_{i}.txt\")"
   ]
  },
  {
   "cell_type": "markdown",
   "id": "f9d7a039-cb25-4302-bf5b-7c2c698c0c2c",
   "metadata": {},
   "source": [
    "#### Exercise 2.5 - Classifying temperatures\n",
    "\n",
    "Data classification is another useful data analysis concept, where data values are sorted into different groups that help you to interpret the data. Your goal in this exercise is to sort a list of temperatures into four categories using a Python list for each category (Table 2.7):\n",
    "\n",
    "The list of temperatures below were measured at the Helsinki Malmi Airport in April 2013 with night, day, and evening temperatures recorded for each day.\n",
    "\n",
    "\n",
    "\n",
    "For this exercise you should:\n",
    "- Use a for loop and conditional statments (e.g., if, elif, and else) to sort the temperatures in the list into the lists associated with each category (see Table 2.7). Hint: Create the empty lists before the start of the for loop.\n",
    "- Answer the following questions:\n",
    "    - How many times was it cold in Helsinki in April 2013?\n",
    "    - How many times was it comfortable?\n",
    "    - Was it ever warm?\n",
    "\n",
    "#### Exercise 2.7 - A temperature classifier function\n",
    "\n",
    "This exercise uses the same logic presented in Exercise 2.5 to classify temperatures, but now using a function.\n",
    "\n",
    "In this exercise you should:\n",
    "- Create a function that classifies temperatures based on Table 2.8. The function should return the following values for the different categories\n",
    "    - 0: Cold\n",
    "    - 1: Slippery\n",
    "    - 2: Comfortable\n",
    "    - 3: Warm\n",
    "\n",
    "- Use the function to calculate the returned value the following temperatures:\n",
    "    - +17 °C\n",
    "    - +2 °C\n",
    "    - +1.9 °C\n",
    "    - -2 °C"
   ]
  },
  {
   "cell_type": "code",
   "execution_count": 61,
   "id": "8bef106c-a2c8-4b0a-9abf-7e817e248797",
   "metadata": {},
   "outputs": [
    {
     "name": "stdout",
     "output_type": "stream",
     "text": [
      "It was cold 15 times in Helsinki in April 2013.\n",
      "It was comfortable 59 times.\n",
      "Was it ever warm? - No\n"
     ]
    }
   ],
   "source": [
    "def classify_temp(t):\n",
    "    if t < -2:\n",
    "        category = 'cold'\n",
    "    elif -2 < t < 2:\n",
    "        category = 'slippery'\n",
    "    elif 2 < t < 15:\n",
    "        category = 'comfortable'\n",
    "    else:\n",
    "        category = 'warm'\n",
    "\n",
    "    return(category)\n",
    "\n",
    "temperatures = [-5.4, 1.0, -1.3, -4.8, 3.9, 0.1, -4.4, 4.0, -2.2, -3.9, 4.4,\n",
    "                -2.5, -4.6, 5.1, 2.1, -2.4, 1.9, -3.3, -4.8, 1.0, -0.8, -2.8,\n",
    "                -0.1, -4.7, -5.6, 2.6, -2.7, -4.6, 3.4, -0.4, -0.9, 3.1, 2.4,\n",
    "                1.6, 4.2, 3.5, 2.6, 3.1, 2.2, 1.8, 3.3, 1.6, 1.5, 4.7, 4.0,\n",
    "                3.6, 4.9, 4.8, 5.3, 5.6, 4.1, 3.7, 7.6, 6.9, 5.1, 6.4, 3.8,\n",
    "                4.0, 8.6, 4.1, 1.4, 8.9, 3.0, 1.6, 8.5, 4.7, 6.6, 8.1, 4.5,\n",
    "                4.8, 11.3, 4.7, 5.2, 11.5, 6.2, 2.9, 4.3, 2.8, 2.8, 6.3, 2.6,\n",
    "                -0.0, 7.3, 3.4, 4.7, 9.3, 6.4, 5.4, 7.6, 5.2]\n",
    "\n",
    "\n",
    "categories = []\n",
    "\n",
    "for t in temperatures:\n",
    "    categories.append(classify_temp(t))\n",
    "\n",
    "cold_count = categories.count('cold')\n",
    "slippery_count = categories.count('slippery')\n",
    "comfortable_count = categories.count('comfortable')\n",
    "warm_count = categories.count('warm')\n",
    "\n",
    "print(f\"It was cold {cold_count} times in Helsinki in April 2013.\")\n",
    "print(f\"It was comfortable {comfortable_count} times.\")\n",
    "print(f\"Was it ever warm? - {'Yes' if warm_count > 0 else 'No'}\")"
   ]
  }
 ],
 "metadata": {
  "kernelspec": {
   "display_name": "Python 3 (ipykernel)",
   "language": "python",
   "name": "python3"
  },
  "language_info": {
   "codemirror_mode": {
    "name": "ipython",
    "version": 3
   },
   "file_extension": ".py",
   "mimetype": "text/x-python",
   "name": "python",
   "nbconvert_exporter": "python",
   "pygments_lexer": "ipython3",
   "version": "3.12.7"
  }
 },
 "nbformat": 4,
 "nbformat_minor": 5
}
