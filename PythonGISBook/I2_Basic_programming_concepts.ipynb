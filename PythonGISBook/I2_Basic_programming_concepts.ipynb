{
 "cells": [
  {
   "cell_type": "code",
   "execution_count": 1,
   "id": "5524caec-6d01-41d4-a3fc-d229f9a49178",
   "metadata": {},
   "outputs": [],
   "source": [
    "import math as math"
   ]
  },
  {
   "cell_type": "markdown",
   "id": "cbee9e96-fd96-41d2-a45e-d2546f8494de",
   "metadata": {},
   "source": [
    "#### Question 2.1\n",
    "Use your Python skills to calculate the sine of pi. What value do you expect for this calculation? Did you get the expected result?\n",
    "\n",
    "A: *We would have expecte 0, but we just get a very very small number instead, due to lyrics*"
   ]
  },
  {
   "cell_type": "code",
   "execution_count": 2,
   "id": "3386e09b-f384-4d2c-a2c6-7beddb89eb6e",
   "metadata": {},
   "outputs": [
    {
     "data": {
      "text/plain": [
       "1.2246467991473532e-16"
      ]
     },
     "execution_count": 2,
     "metadata": {},
     "output_type": "execute_result"
    }
   ],
   "source": [
    "math.sin(math.pi)\n"
   ]
  },
  {
   "cell_type": "markdown",
   "id": "cd32da4a-9f19-407d-9b85-798d47a268fe",
   "metadata": {},
   "source": [
    "#### Question 2.2\n",
    "Define a variable and display its value on the screen. The variable value can be anything you like, and you can even consider defining several variables and printing them out together. Consider using pothole_case_naming for your variable name."
   ]
  },
  {
   "cell_type": "code",
   "execution_count": 3,
   "id": "ecc221a6-ec83-4d27-853a-e68085f3fe08",
   "metadata": {},
   "outputs": [
    {
     "name": "stdout",
     "output_type": "stream",
     "text": [
      "2\n"
     ]
    }
   ],
   "source": [
    "var1 = 2\n",
    "print(var1)"
   ]
  },
  {
   "cell_type": "markdown",
   "id": "235df37a-b324-4152-8039-3d84cc51782c",
   "metadata": {},
   "source": [
    "#### Question 2.3\n",
    "As it turns out, it is possible some math with character strings in Python. Define two variables and assign them character string values. What happens if you try to add two character strings together? Can you subtract them? Which other math operations work for character strings?\n",
    "\n",
    "A: *Adding adds them together*: `st` . *Multiplying by a number multiplies string* `ssss`"
   ]
  },
  {
   "cell_type": "code",
   "execution_count": 8,
   "id": "8eadaf91-e6fd-43ff-bd55-44f19495e6f3",
   "metadata": {},
   "outputs": [
    {
     "data": {
      "text/plain": [
       "('st', 'ssss')"
      ]
     },
     "execution_count": 8,
     "metadata": {},
     "output_type": "execute_result"
    }
   ],
   "source": [
    "var1 = 's'\n",
    "var2 = 't'\n",
    "var1 + var2, 4 * var1"
   ]
  },
  {
   "cell_type": "markdown",
   "id": "ad45b64a-7ea5-4089-85d8-2a8cb1a5aebd",
   "metadata": {},
   "source": [
    "\\"
   ]
  },
  {
   "cell_type": "markdown",
   "id": "6219793d-3fc1-4549-9150-88df4dd47dc2",
   "metadata": {},
   "source": [
    "#### Question 2.6\n",
    "\n",
    "Which animal is at index -2 in the Python list below? `cute_animals = [\"bunny\", \"chick\", \"duckling\", \"kitten\", \"puppy\"]`"
   ]
  },
  {
   "cell_type": "code",
   "execution_count": 3,
   "id": "dcc7c034-adfc-4b34-aae6-4492ba8b5095",
   "metadata": {},
   "outputs": [
    {
     "data": {
      "text/plain": [
       "'kitten'"
      ]
     },
     "execution_count": 3,
     "metadata": {},
     "output_type": "execute_result"
    }
   ],
   "source": [
    "cute_animals = [\"bunny\", \"chick\", \"duckling\", \"kitten\", \"puppy\"]\n",
    "cute_animals[-2]"
   ]
  },
  {
   "cell_type": "markdown",
   "id": "88a662b6-742e-4dd1-ade4-50f4975e25be",
   "metadata": {},
   "source": [
    "#### Question 2.7\n",
    "\n",
    "The program below will print numbers to the screen using the range() function.\n",
    "```\n",
    "for i in range(...):\n",
    "    print(i)\n",
    "```\n",
    "Using the documentation that is produced when you run help(range), what values would you replace the ... in the parentheses of the range() function with to have the following output printed to the screen? Try to first think about the function without running any code.\n",
    "```\n",
    "2\n",
    "5\n",
    "8\n",
    "```"
   ]
  },
  {
   "cell_type": "code",
   "execution_count": 6,
   "id": "771d61f9-ea6d-4265-ac59-63c90e60f89a",
   "metadata": {},
   "outputs": [
    {
     "name": "stdout",
     "output_type": "stream",
     "text": [
      "2\n",
      "5\n",
      "8\n"
     ]
    }
   ],
   "source": [
    "for i in range(2, 9, 3):\n",
    "    print(i)"
   ]
  },
  {
   "cell_type": "markdown",
   "id": "9bff0e25-6639-4e1c-907a-16d67c4ce354",
   "metadata": {},
   "source": [
    "#### Question 2.8\n",
    "\n",
    "What output would the following program produce? Try to first think about the loop without running any code.\n",
    "``` \n",
    "odd_numbers = [1, 3, 5, 7, 9]\n",
    "even_numbers = [10, 4, 6, 8, 2]\n",
    "for i in range(len(odd_numbers)):\n",
    "    print(odd_numbers[i] + even_numbers[i])\n",
    "``` "
   ]
  },
  {
   "cell_type": "code",
   "execution_count": 7,
   "id": "e6d37425-3427-4073-b664-9b488a5fd985",
   "metadata": {},
   "outputs": [
    {
     "name": "stdout",
     "output_type": "stream",
     "text": [
      "11\n",
      "7\n",
      "11\n",
      "15\n",
      "11\n"
     ]
    }
   ],
   "source": [
    "odd_numbers = [1, 3, 5, 7, 9]\n",
    "even_numbers = [10, 4, 6, 8, 2]\n",
    "for i in range(len(odd_numbers)):\n",
    "    print(odd_numbers[i] + even_numbers[i])"
   ]
  }
 ],
 "metadata": {
  "kernelspec": {
   "display_name": "Python 3 (ipykernel)",
   "language": "python",
   "name": "python3"
  },
  "language_info": {
   "codemirror_mode": {
    "name": "ipython",
    "version": 3
   },
   "file_extension": ".py",
   "mimetype": "text/x-python",
   "name": "python",
   "nbconvert_exporter": "python",
   "pygments_lexer": "ipython3",
   "version": "3.12.7"
  }
 },
 "nbformat": 4,
 "nbformat_minor": 5
}
